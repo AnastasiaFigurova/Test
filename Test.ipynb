{
 "cells": [
  {
   "cell_type": "code",
   "execution_count": 106,
   "metadata": {},
   "outputs": [],
   "source": [
    "import pandas as pd\n",
    "import json\n",
    "import seaborn as sns\n",
    "import datetime as dt\n",
    "import matplotlib.pyplot as plt\n",
    "import scipy.stats as st"
   ]
  },
  {
   "cell_type": "code",
   "execution_count": 89,
   "metadata": {},
   "outputs": [
    {
     "data": {
      "text/html": [
       "<div>\n",
       "<style scoped>\n",
       "    .dataframe tbody tr th:only-of-type {\n",
       "        vertical-align: middle;\n",
       "    }\n",
       "\n",
       "    .dataframe tbody tr th {\n",
       "        vertical-align: top;\n",
       "    }\n",
       "\n",
       "    .dataframe thead th {\n",
       "        text-align: right;\n",
       "    }\n",
       "</style>\n",
       "<table border=\"1\" class=\"dataframe\">\n",
       "  <thead>\n",
       "    <tr style=\"text-align: right;\">\n",
       "      <th></th>\n",
       "      <th>profile_id</th>\n",
       "      <th>os_version</th>\n",
       "      <th>device_manufacturer</th>\n",
       "      <th>device_model</th>\n",
       "      <th>device_type</th>\n",
       "      <th>device_locale</th>\n",
       "      <th>event_name</th>\n",
       "      <th>event_json</th>\n",
       "      <th>event_datetime</th>\n",
       "      <th>event_timestamp</th>\n",
       "      <th>event_receive_datetime</th>\n",
       "      <th>event_receive_timestamp</th>\n",
       "      <th>connection_type</th>\n",
       "      <th>operator_name</th>\n",
       "      <th>country_iso_code</th>\n",
       "      <th>city</th>\n",
       "    </tr>\n",
       "  </thead>\n",
       "  <tbody>\n",
       "    <tr>\n",
       "      <th>0</th>\n",
       "      <td>JLjpGzDHBQm</td>\n",
       "      <td>11</td>\n",
       "      <td>Samsung</td>\n",
       "      <td>Galaxy Tab S6</td>\n",
       "      <td>tablet</td>\n",
       "      <td>en_US</td>\n",
       "      <td>c_ad_revenue</td>\n",
       "      <td>{\"ad_type\":\"banner\",\"placement\":\"\",\"view_index...</td>\n",
       "      <td>2022-02-04 20:02:28</td>\n",
       "      <td>1643994148</td>\n",
       "      <td>2022-02-06 17:58:19</td>\n",
       "      <td>1644159499</td>\n",
       "      <td>wifi</td>\n",
       "      <td>NaN</td>\n",
       "      <td>US</td>\n",
       "      <td>Norwalk</td>\n",
       "    </tr>\n",
       "    <tr>\n",
       "      <th>1</th>\n",
       "      <td>JLjpGzDHBQm</td>\n",
       "      <td>11</td>\n",
       "      <td>Samsung</td>\n",
       "      <td>Galaxy Tab S6</td>\n",
       "      <td>tablet</td>\n",
       "      <td>en_US</td>\n",
       "      <td>c_ad_revenue</td>\n",
       "      <td>{\"ad_type\":\"banner\",\"placement\":\"\",\"view_index...</td>\n",
       "      <td>2022-02-04 20:02:45</td>\n",
       "      <td>1643994165</td>\n",
       "      <td>2022-02-06 17:58:19</td>\n",
       "      <td>1644159499</td>\n",
       "      <td>wifi</td>\n",
       "      <td>NaN</td>\n",
       "      <td>US</td>\n",
       "      <td>Norwalk</td>\n",
       "    </tr>\n",
       "    <tr>\n",
       "      <th>2</th>\n",
       "      <td>JLkVacrzHY6</td>\n",
       "      <td>11</td>\n",
       "      <td>Google</td>\n",
       "      <td>Pixel 2</td>\n",
       "      <td>phone</td>\n",
       "      <td>en_US</td>\n",
       "      <td>c_ad_revenue</td>\n",
       "      <td>{\"ad_type\":\"banner\",\"placement\":\"\",\"view_index...</td>\n",
       "      <td>2022-02-05 17:53:05</td>\n",
       "      <td>1644072785</td>\n",
       "      <td>2022-02-06 16:59:29</td>\n",
       "      <td>1644155969</td>\n",
       "      <td>wifi</td>\n",
       "      <td>Verizon</td>\n",
       "      <td>US</td>\n",
       "      <td>Charlotte</td>\n",
       "    </tr>\n",
       "    <tr>\n",
       "      <th>3</th>\n",
       "      <td>JMC6wG3cX0f</td>\n",
       "      <td>10</td>\n",
       "      <td>Samsung</td>\n",
       "      <td>Galaxy S9</td>\n",
       "      <td>phone</td>\n",
       "      <td>en_US</td>\n",
       "      <td>c_ad_revenue</td>\n",
       "      <td>{\"ad_type\":\"int\",\"placement\":\"next_level\",\"vie...</td>\n",
       "      <td>2022-02-06 17:09:01</td>\n",
       "      <td>1644156541</td>\n",
       "      <td>2022-02-06 17:09:24</td>\n",
       "      <td>1644156564</td>\n",
       "      <td>wifi</td>\n",
       "      <td>T-Mobile</td>\n",
       "      <td>US</td>\n",
       "      <td>Cocoa</td>\n",
       "    </tr>\n",
       "    <tr>\n",
       "      <th>4</th>\n",
       "      <td>JLzWWTJfi1b</td>\n",
       "      <td>10</td>\n",
       "      <td>Samsung</td>\n",
       "      <td>Galaxy S9</td>\n",
       "      <td>phone</td>\n",
       "      <td>en_US</td>\n",
       "      <td>c_ad_revenue</td>\n",
       "      <td>{\"ad_type\":\"banner\",\"placement\":\"\",\"view_index...</td>\n",
       "      <td>2022-02-06 17:15:38</td>\n",
       "      <td>1644156938</td>\n",
       "      <td>2022-02-06 17:16:16</td>\n",
       "      <td>1644156976</td>\n",
       "      <td>cell</td>\n",
       "      <td>Verizon</td>\n",
       "      <td>US</td>\n",
       "      <td>NaN</td>\n",
       "    </tr>\n",
       "  </tbody>\n",
       "</table>\n",
       "</div>"
      ],
      "text/plain": [
       "    profile_id os_version device_manufacturer   device_model device_type  \\\n",
       "0  JLjpGzDHBQm         11             Samsung  Galaxy Tab S6      tablet   \n",
       "1  JLjpGzDHBQm         11             Samsung  Galaxy Tab S6      tablet   \n",
       "2  JLkVacrzHY6         11              Google        Pixel 2       phone   \n",
       "3  JMC6wG3cX0f         10             Samsung      Galaxy S9       phone   \n",
       "4  JLzWWTJfi1b         10             Samsung      Galaxy S9       phone   \n",
       "\n",
       "  device_locale    event_name  \\\n",
       "0         en_US  c_ad_revenue   \n",
       "1         en_US  c_ad_revenue   \n",
       "2         en_US  c_ad_revenue   \n",
       "3         en_US  c_ad_revenue   \n",
       "4         en_US  c_ad_revenue   \n",
       "\n",
       "                                          event_json       event_datetime  \\\n",
       "0  {\"ad_type\":\"banner\",\"placement\":\"\",\"view_index...  2022-02-04 20:02:28   \n",
       "1  {\"ad_type\":\"banner\",\"placement\":\"\",\"view_index...  2022-02-04 20:02:45   \n",
       "2  {\"ad_type\":\"banner\",\"placement\":\"\",\"view_index...  2022-02-05 17:53:05   \n",
       "3  {\"ad_type\":\"int\",\"placement\":\"next_level\",\"vie...  2022-02-06 17:09:01   \n",
       "4  {\"ad_type\":\"banner\",\"placement\":\"\",\"view_index...  2022-02-06 17:15:38   \n",
       "\n",
       "   event_timestamp event_receive_datetime  event_receive_timestamp  \\\n",
       "0       1643994148    2022-02-06 17:58:19               1644159499   \n",
       "1       1643994165    2022-02-06 17:58:19               1644159499   \n",
       "2       1644072785    2022-02-06 16:59:29               1644155969   \n",
       "3       1644156541    2022-02-06 17:09:24               1644156564   \n",
       "4       1644156938    2022-02-06 17:16:16               1644156976   \n",
       "\n",
       "  connection_type operator_name country_iso_code       city  \n",
       "0            wifi           NaN               US    Norwalk  \n",
       "1            wifi           NaN               US    Norwalk  \n",
       "2            wifi       Verizon               US  Charlotte  \n",
       "3            wifi      T-Mobile               US      Cocoa  \n",
       "4            cell      Verizon                US        NaN  "
      ]
     },
     "execution_count": 89,
     "metadata": {},
     "output_type": "execute_result"
    }
   ],
   "source": [
    "data = pd.read_csv(\"us events ad_revenue filtered 03.02-07.02.csv\")\n",
    "data.head()"
   ]
  },
  {
   "cell_type": "code",
   "execution_count": 90,
   "metadata": {},
   "outputs": [],
   "source": [
    "ad_type = []\n",
    "revenue = []\n",
    "eCPM = []\n",
    "for i in range(0, len(data[\"event_json\"])):\n",
    "    ad_type.append(json.loads(data[\"event_json\"][i])[\"ad_type\"])\n",
    "    revenue.append(json.loads(data[\"event_json\"][i])[\"revenue\"])\n",
    "    eCPM.append(json.loads(data[\"event_json\"][i])[\"revenue\"] * 1000)\n",
    "data[\"ad_type\"]  = ad_type\n",
    "data[\"revenue\"]  = revenue  \n",
    "data[\"eCPM\"] = eCPM"
   ]
  },
  {
   "cell_type": "markdown",
   "metadata": {},
   "source": [
    "# 1a. Для каждого формата рекламы построим распределение средних eCPM-ов юзеров:"
   ]
  },
  {
   "cell_type": "code",
   "execution_count": 4,
   "metadata": {},
   "outputs": [],
   "source": [
    "banner_eCPM = data[data.ad_type == \"banner\"].groupby(\"profile_id\").aggregate({\"eCPM\":\"mean\"})\n",
    "int_eCPM = data[data.ad_type == \"int\"].groupby(\"profile_id\").aggregate({\"eCPM\":\"mean\"})\n",
    "rv_eCPM = data[data.ad_type == \"rv\"].groupby(\"profile_id\").aggregate({\"eCPM\":\"mean\"})\n",
    "\n",
    "df = pd.DataFrame({\"banner\": banner_eCPM[\"eCPM\"], \n",
    "                   \"int\": int_eCPM[\"eCPM\"], \n",
    "                   \"rv\": rv_eCPM[\"eCPM\"]})"
   ]
  },
  {
   "cell_type": "code",
   "execution_count": 5,
   "metadata": {},
   "outputs": [
    {
     "data": {
      "image/png": "[encoded data removed]",
      "text/plain": [
       "<Figure size 936x576 with 1 Axes>"
      ]
     },
     "metadata": {
      "needs_background": "light"
     },
     "output_type": "display_data"
    }
   ],
   "source": [
    "def boxplot(df, title_name, color):\n",
    "    boxprops = dict(linewidth = 3, color = \"b\")\n",
    "    medianprops = dict(linewidth = 2.4, color = \"k\")\n",
    "    capprops = dict(linewidth = 2, color = \"k\")\n",
    "    whiskerprops = dict(linewidth = 2, color = \"k\")\n",
    "\n",
    "    plt.figure(figsize=(13, 8))\n",
    "    profile_eCPM = sns.boxplot(data = df, palette = color, medianprops=medianprops, capprops=capprops, whiskerprops=whiskerprops)\n",
    "    plt.xticks(fontsize = 16)\n",
    "    plt.yticks(fontsize = 18)\n",
    "    plt.title(title_name, fontsize = 20, pad = 27)\n",
    "\n",
    "    plt.show()\n",
    "    \n",
    "boxplot(df, title_name = \"Средние значения eCPM-ов юзеров\", color = \"crest\")"
   ]
  },
  {
   "cell_type": "code",
   "execution_count": 6,
   "metadata": {},
   "outputs": [
    {
     "data": {
      "image/png": "[encoded data removed]",
      "text/plain": [
       "<Figure size 1440x504 with 3 Axes>"
      ]
     },
     "metadata": {
      "needs_background": "light"
     },
     "output_type": "display_data"
    }
   ],
   "source": [
    "def histplot(df, name, bins):\n",
    "    fig, axes = plt.subplots(nrows = 1, ncols = 3, figsize = (20, 7))\n",
    "\n",
    "    axes[0].hist(df[\"banner\"], alpha = 0.7, bins = bins, color = \"green\")\n",
    "    axes[0].set_xlabel(name, fontsize = 14, labelpad = 12)\n",
    "    axes[0].set_title(\"banner\", fontsize = 15, pad = 22)\n",
    "\n",
    "    axes[1].hist(df[\"int\"], alpha = 0.7, bins = bins, color = \"blue\")\n",
    "    axes[1].set_xlabel(name, fontsize = 14, labelpad = 12)\n",
    "    axes[1].set_title(\"int\", fontsize = 15, pad = 22)\n",
    "\n",
    "    axes[2].hist(df[\"rv\"], alpha = 0.7, bins = bins, color = \"red\")\n",
    "    axes[2].set_xlabel(name, fontsize = 14, labelpad = 12)\n",
    "    axes[2].set_title(\"rv\", fontsize = 15, pad = 22)\n",
    "\n",
    "    plt.subplots_adjust(wspace = 0.3, hspace = 0.4)\n",
    "    plt.show()\n",
    "histplot(df, name = \"mean eCMP\", bins = 40)  "
   ]
  },
  {
   "cell_type": "markdown",
   "metadata": {},
   "source": [
    "### На данных графиках можно заметить, что наибольшие значения и распределение средних  дохода за 1000 просмотров для юзеров принимают видео, которое юзер смотрит по желанию и за просмотр получает монетки или другие ресурсы. Данный тип рекламы является наиболее просматриваемым отдельными уникальными юзерами. Далее среднее значение принимает полноэкранная реклама, самые минимальные значения среди всех принимают значения для банерной рекламы. У распредений для рекламных видео за бонусы и полноэкранной рекламы имеются наиболее сильный выбросы. Средние значения eCMP для баннерной рекламы принимают не такой большой диапазон значений.\n",
    "### Однако если смотреть на количество пользователей, которые просматривают рекламу, то получается, что наименьшее количество пользователей смотрит видео за бонусы, но они делают это гораздо в больших количествах, тогда как средние значения еCMP для баннерной рекламы самые низкие и распределение значений небольшое, но количество уникальных юзеров, которые просматривают данную рекламу превышает количество в остальных двух группах."
   ]
  },
  {
   "cell_type": "markdown",
   "metadata": {},
   "source": [
    "# 2b. Для каждого формата рекламы отобразим средние eCPM-ы по городам и  версиям ОС"
   ]
  },
  {
   "cell_type": "markdown",
   "metadata": {},
   "source": [
    "## Средние eCPM по городам:"
   ]
  },
  {
   "cell_type": "code",
   "execution_count": 11,
   "metadata": {},
   "outputs": [],
   "source": [
    "banner_eCPM_city = data[data.ad_type == \"banner\"].groupby(\"city\").aggregate({\"eCPM\":\"mean\"})\n",
    "int_eCPM_city = data[data.ad_type == \"int\"].groupby(\"city\").aggregate({\"eCPM\":\"mean\"})\n",
    "rv_eCPM_city = data[data.ad_type == \"rv\"].groupby(\"city\").aggregate({\"eCPM\":\"mean\"})\n",
    "\n",
    "df_city = pd.DataFrame({\"banner\": banner_eCPM_city[\"eCPM\"], \n",
    "                   \"int\": int_eCPM_city[\"eCPM\"], \n",
    "                   \"rv\": rv_eCPM_city[\"eCPM\"]})"
   ]
  },
  {
   "cell_type": "code",
   "execution_count": 12,
   "metadata": {},
   "outputs": [
    {
     "data": {
      "image/png": "[encoded data removed]",
      "text/plain": [
       "<Figure size 936x576 with 1 Axes>"
      ]
     },
     "metadata": {
      "needs_background": "light"
     },
     "output_type": "display_data"
    }
   ],
   "source": [
    "boxplot(df_city, title_name = \"Средние значения eCPM по городам\", color = \"YlOrBr\")"
   ]
  },
  {
   "cell_type": "code",
   "execution_count": 13,
   "metadata": {},
   "outputs": [
    {
     "data": {
      "image/png": "[encoded data removed]",
      "text/plain": [
       "<Figure size 1440x504 with 3 Axes>"
      ]
     },
     "metadata": {
      "needs_background": "light"
     },
     "output_type": "display_data"
    }
   ],
   "source": [
    "histplot(df_city, name = \"mean eCMP\", bins = 40)"
   ]
  },
  {
   "cell_type": "markdown",
   "metadata": {},
   "source": [
    "### По гистограммам можно увидеть, что распределение отличается от нормально, дополнительно проведем проверку на нормальность критерием Шапиро-Уилкса"
   ]
  },
  {
   "cell_type": "code",
   "execution_count": 302,
   "metadata": {},
   "outputs": [
    {
     "name": "stdout",
     "output_type": "stream",
     "text": [
      "ShapiroResult(statistic=0.5578533411026001, pvalue=7.157832555771166e-42)\n",
      "ShapiroResult(statistic=0.6878162622451782, pvalue=3.28203628840271e-37)\n",
      "ShapiroResult(statistic=0.7232918739318848, pvalue=9.459250373804596e-27)\n"
     ]
    }
   ],
   "source": [
    "print(st.shapiro(banner_eCPM_city[\"eCPM\"]))\n",
    "print(st.shapiro(int_eCPM_city[\"eCPM\"]))\n",
    "print(st.shapiro(rv_eCPM_city[\"eCPM\"]))"
   ]
  },
  {
   "cell_type": "markdown",
   "metadata": {},
   "source": [
    "### pvalue < 0.01, данные распределены не нормально. Сравним средние eCMP по городам в трех группах с помощью теста Манна-Уитни"
   ]
  },
  {
   "cell_type": "code",
   "execution_count": 252,
   "metadata": {
    "scrolled": true
   },
   "outputs": [
    {
     "name": "stdout",
     "output_type": "stream",
     "text": [
      "MannwhitneyuResult(statistic=58285.0, pvalue=2.5779688295890337e-225)\n",
      "MannwhitneyuResult(statistic=46755.0, pvalue=1.2593436004989384e-239)\n",
      "MannwhitneyuResult(statistic=154941.0, pvalue=7.685711444417764e-123)\n"
     ]
    }
   ],
   "source": [
    "print(st.mannwhitneyu(df_city[\"banner\"], df_city[\"int\"]))\n",
    "print(st.mannwhitneyu(df_city[\"banner\"], df_city[\"rv\"]))\n",
    "print(st.mannwhitneyu(df_city[\"int\"], df_city[\"rv\"]))"
   ]
  },
  {
   "cell_type": "markdown",
   "metadata": {},
   "source": [
    "### p-value < 0.01, значит по результатам данного теста есть статистические различия между всеми тремя группами."
   ]
  },
  {
   "cell_type": "markdown",
   "metadata": {},
   "source": [
    "## Средние eCPM по OS:"
   ]
  },
  {
   "cell_type": "code",
   "execution_count": 14,
   "metadata": {},
   "outputs": [],
   "source": [
    "banner_eCPM_os = data[data.ad_type == \"banner\"].groupby(\"os_version\").aggregate({\"eCPM\":\"mean\"})\n",
    "int_eCPM_os = data[data.ad_type == \"int\"].groupby(\"os_version\").aggregate({\"eCPM\":\"mean\"})\n",
    "rv_eCPM_os = data[data.ad_type == \"rv\"].groupby(\"os_version\").aggregate({\"eCPM\":\"mean\"})\n",
    "\n",
    "df_os = pd.DataFrame({\"banner\": banner_eCPM_os[\"eCPM\"], \n",
    "                   \"int\": int_eCPM_os[\"eCPM\"], \n",
    "                   \"rv\": rv_eCPM_os[\"eCPM\"]})"
   ]
  },
  {
   "cell_type": "code",
   "execution_count": 15,
   "metadata": {},
   "outputs": [
    {
     "data": {
      "image/png": "[encoded data removed]",
      "text/plain": [
       "<Figure size 936x576 with 1 Axes>"
      ]
     },
     "metadata": {
      "needs_background": "light"
     },
     "output_type": "display_data"
    }
   ],
   "source": [
    "boxplot(df_os, title_name = \"Средние значения eCPM по версия OS\", color = \"flare\")"
   ]
  },
  {
   "cell_type": "code",
   "execution_count": 16,
   "metadata": {},
   "outputs": [
    {
     "data": {
      "image/png": "[encoded data removed]",
      "text/plain": [
       "<Figure size 1440x504 with 3 Axes>"
      ]
     },
     "metadata": {
      "needs_background": "light"
     },
     "output_type": "display_data"
    }
   ],
   "source": [
    "histplot(df_os, name = \"mean eCMP\", bins = 8)"
   ]
  },
  {
   "cell_type": "markdown",
   "metadata": {},
   "source": [
    "### Проведем проверку на нормальность критерием Шапиро-Уилкса"
   ]
  },
  {
   "cell_type": "code",
   "execution_count": 31,
   "metadata": {},
   "outputs": [
    {
     "name": "stdout",
     "output_type": "stream",
     "text": [
      "ShapiroResult(statistic=0.8831230401992798, pvalue=0.11397145688533783)\n",
      "ShapiroResult(statistic=0.9125474691390991, pvalue=0.2613564133644104)\n",
      "ShapiroResult(statistic=0.9385619163513184, pvalue=0.537125825881958)\n"
     ]
    }
   ],
   "source": [
    "print(st.shapiro(banner_eCPM_os[\"eCPM\"]))\n",
    "print(st.shapiro(int_eCPM_os[\"eCPM\"]))\n",
    "print(st.shapiro(rv_eCPM_os[\"eCPM\"]))"
   ]
  },
  {
   "cell_type": "markdown",
   "metadata": {},
   "source": [
    "### pvalue > 0.05, данные распределены  нормально. Сравним средние eCMP по городам в трех группах с помощью t-теста"
   ]
  },
  {
   "cell_type": "code",
   "execution_count": 32,
   "metadata": {},
   "outputs": [
    {
     "name": "stdout",
     "output_type": "stream",
     "text": [
      "Ttest_indResult(statistic=-7.441309873963203, pvalue=2.1951768322071374e-05)\n",
      "Ttest_indResult(statistic=-5.54408380354582, pvalue=0.00035893805012440224)\n",
      "Ttest_indResult(statistic=-2.251309328870577, pvalue=0.04376338486616848)\n"
     ]
    }
   ],
   "source": [
    "print(st.ttest_ind(banner_eCPM_os[\"eCPM\"], int_eCPM_os[\"eCPM\"], equal_var=False))\n",
    "print(st.ttest_ind(banner_eCPM_os[\"eCPM\"], rv_eCPM_os[\"eCPM\"], equal_var=False))\n",
    "print(st.ttest_ind(int_eCPM_os[\"eCPM\"], rv_eCPM_os[\"eCPM\"], equal_var=False))"
   ]
  },
  {
   "cell_type": "code",
   "execution_count": 33,
   "metadata": {},
   "outputs": [
    {
     "name": "stdout",
     "output_type": "stream",
     "text": [
      "0.04376338486616848\n"
     ]
    }
   ],
   "source": [
    "print(st.ttest_ind(int_eCPM_os[\"eCPM\"], rv_eCPM_os[\"eCPM\"], equal_var=False)[1])"
   ]
  },
  {
   "cell_type": "markdown",
   "metadata": {},
   "source": [
    "### p-value < 0.05 между группой с баннерной рекламой и с группами с видео за бонусы и полноэкранной рекламой"
   ]
  },
  {
   "cell_type": "markdown",
   "metadata": {},
   "source": [
    "# 1c. Отобразим суммарные доходы по городам и версиям ОС"
   ]
  },
  {
   "cell_type": "markdown",
   "metadata": {},
   "source": [
    "## Суммарные доходы по городам"
   ]
  },
  {
   "cell_type": "code",
   "execution_count": 34,
   "metadata": {},
   "outputs": [],
   "source": [
    "banner_rev_city = data[data.ad_type == \"banner\"].groupby(\"city\").aggregate({\"revenue\":\"sum\"})\n",
    "int_rev_city = data[data.ad_type == \"int\"].groupby(\"city\").aggregate({\"revenue\":\"sum\"})\n",
    "rv_rev_city = data[data.ad_type == \"rv\"].groupby(\"city\").aggregate({\"revenue\":\"sum\"})\n",
    "\n",
    "df_city_rev = pd.DataFrame({\"banner\": banner_rev_city[\"revenue\"], \n",
    "                   \"int\": int_rev_city[\"revenue\"], \n",
    "                   \"rv\": rv_rev_city[\"revenue\"]})"
   ]
  },
  {
   "cell_type": "code",
   "execution_count": 35,
   "metadata": {},
   "outputs": [
    {
     "data": {
      "image/png": "[encoded data removed]",
      "text/plain": [
       "<Figure size 936x576 with 1 Axes>"
      ]
     },
     "metadata": {
      "needs_background": "light"
     },
     "output_type": "display_data"
    }
   ],
   "source": [
    "boxplot(df_city_rev, title_name = \"Суммарные доходы по городам\", color = \"Greens\")"
   ]
  },
  {
   "cell_type": "code",
   "execution_count": 39,
   "metadata": {},
   "outputs": [
    {
     "data": {
      "image/png": "[encoded data removed]",
      "text/plain": [
       "<Figure size 1440x504 with 3 Axes>"
      ]
     },
     "metadata": {
      "needs_background": "light"
     },
     "output_type": "display_data"
    }
   ],
   "source": [
    "histplot(df_city_rev, name = \"sum revenue\", bins = 8)"
   ]
  },
  {
   "cell_type": "markdown",
   "metadata": {},
   "source": [
    "### На гистограммах и боксплотах мы видим приблизительно одинаковое значение медиан для всех трех групп, а также наибольшее количество равномерных выбросов в группе с полноэкранной рекламой. "
   ]
  },
  {
   "cell_type": "markdown",
   "metadata": {},
   "source": [
    "### Cуммарные доходы по версиям ОС"
   ]
  },
  {
   "cell_type": "code",
   "execution_count": 41,
   "metadata": {},
   "outputs": [],
   "source": [
    "banner_rev_os = data[data.ad_type == \"banner\"].groupby(\"os_version\").aggregate({\"revenue\":\"sum\"})\n",
    "int_rev_os = data[data.ad_type == \"int\"].groupby(\"os_version\").aggregate({\"revenue\":\"sum\"})\n",
    "rv_rev_os = data[data.ad_type == \"rv\"].groupby(\"os_version\").aggregate({\"revenue\":\"sum\"})\n",
    "\n",
    "df_os_rev = pd.DataFrame({\"banner\": banner_rev_os[\"revenue\"], \n",
    "                   \"int\": int_rev_os[\"revenue\"], \n",
    "                   \"rv\": rv_rev_os[\"revenue\"]\n",
    "                           })"
   ]
  },
  {
   "cell_type": "code",
   "execution_count": 42,
   "metadata": {},
   "outputs": [
    {
     "data": {
      "image/png": "[encoded data removed]",
      "text/plain": [
       "<Figure size 936x576 with 1 Axes>"
      ]
     },
     "metadata": {
      "needs_background": "light"
     },
     "output_type": "display_data"
    }
   ],
   "source": [
    "boxplot(df_os_rev, title_name = \"Суммарные доходы по OS\", color = \"Blues\")"
   ]
  },
  {
   "cell_type": "code",
   "execution_count": 44,
   "metadata": {},
   "outputs": [
    {
     "data": {
      "image/png": "[encoded data removed]",
      "text/plain": [
       "<Figure size 1440x504 with 3 Axes>"
      ]
     },
     "metadata": {
      "needs_background": "light"
     },
     "output_type": "display_data"
    }
   ],
   "source": [
    "histplot(df_os_rev, name = \"sum revenue\", bins = 6)"
   ]
  },
  {
   "cell_type": "markdown",
   "metadata": {},
   "source": [
    "### На гистограммах и боксплотах мы видим приблизительно одинаковое значение медиан для всех трех групп, а также наибольшее количество равномерных выбросов в группе с полноэкранной рекламой. "
   ]
  },
  {
   "cell_type": "markdown",
   "metadata": {},
   "source": [
    "# 2. Учесть статистическую значимость для п.1b "
   ]
  },
  {
   "cell_type": "markdown",
   "metadata": {},
   "source": [
    "## Статистика по городам"
   ]
  },
  {
   "cell_type": "code",
   "execution_count": 47,
   "metadata": {},
   "outputs": [
    {
     "data": {
      "text/plain": [
       "921"
      ]
     },
     "execution_count": 47,
     "metadata": {},
     "output_type": "execute_result"
    }
   ],
   "source": [
    "len(data[\"city\"].unique())"
   ]
  },
  {
   "cell_type": "markdown",
   "metadata": {},
   "source": [
    "### Всего в датасете находится 921 уникальное значение названия городов. Так как проводить попарное сравнение между всеми группами будет сложно, приведем примерное описание количественных характеристик по eCMP"
   ]
  },
  {
   "cell_type": "markdown",
   "metadata": {},
   "source": [
    "### Для баннерной рекламы:"
   ]
  },
  {
   "cell_type": "code",
   "execution_count": 53,
   "metadata": {},
   "outputs": [
    {
     "name": "stdout",
     "output_type": "stream",
     "text": [
      "                   eCPM\n",
      "city                   \n",
      "Pittsburgh    43.021387\n",
      "Duluth        41.421806\n",
      "Corbin        34.321960\n",
      "Jersey City   31.966212\n",
      "Santa Rosa    28.423479\n",
      "...                 ...\n",
      "Strongsville   0.085758\n",
      "Hartford       0.085130\n",
      "Federal Way    0.054583\n",
      "Waukesha       0.044964\n",
      "Anderson       0.030573\n",
      "\n",
      "[856 rows x 1 columns]\n"
     ]
    }
   ],
   "source": [
    "city = data[data.ad_type == \"banner\"].groupby(\"city\").aggregate({\"eCPM\":\"max\"})\n",
    "print(city.sort_values(by=\"eCPM\", ascending=False))"
   ]
  },
  {
   "cell_type": "markdown",
   "metadata": {},
   "source": [
    "### Как мы видим, максимальные значения доходов за 1000 просмотров для баннерной рекламы принадлежат таким городам, как: Pittsburgh, Duluth, Corbin\n",
    "### Минимальные значения доходов за 1000 просмотров для баннерной рекламы у городов Federal Way, Waukesha, Anderson. \n",
    "### Мы можем посмотреть есть ли статистически значимые различия между городами с максимальным значением eCMP. Для начала проверим нормальность распределения с помощью критерия Шапиро-Уилкса\n"
   ]
  },
  {
   "cell_type": "code",
   "execution_count": 55,
   "metadata": {},
   "outputs": [
    {
     "name": "stdout",
     "output_type": "stream",
     "text": [
      "ShapiroResult(statistic=0.3531424403190613, pvalue=0.0)\n",
      "ShapiroResult(statistic=0.32497090101242065, pvalue=3.016871438647392e-38)\n",
      "ShapiroResult(statistic=0.6704800724983215, pvalue=2.5184734298022704e-08)\n"
     ]
    }
   ],
   "source": [
    "city1 = data[(data['city']== \"Pittsburgh\") & (data['ad_type'] == \"banner\")]\n",
    "city2 = data[(data['city']== \"Duluth\") & (data['ad_type'] == \"banner\")]\n",
    "city3 = data[(data['city']== \"Corbin\") & (data['ad_type'] == \"banner\")]\n",
    "print(st.shapiro(city1['eCPM']))\n",
    "print(st.shapiro(city2['eCPM']))\n",
    "print(st.shapiro(city3['eCPM']))"
   ]
  },
  {
   "cell_type": "markdown",
   "metadata": {},
   "source": [
    "### Данные распределены не нормально, поэтому используем критерий Манна-Уитни"
   ]
  },
  {
   "cell_type": "code",
   "execution_count": 56,
   "metadata": {},
   "outputs": [
    {
     "name": "stdout",
     "output_type": "stream",
     "text": [
      "MannwhitneyuResult(statistic=409993.0, pvalue=9.108951850493353e-74)\n",
      "MannwhitneyuResult(statistic=18785.0, pvalue=1.1706024422643615e-16)\n",
      "MannwhitneyuResult(statistic=5359.0, pvalue=9.50169178131963e-07)\n"
     ]
    }
   ],
   "source": [
    "print(st.mannwhitneyu(city1['eCPM'], city2['eCPM']))\n",
    "print(st.mannwhitneyu(city1['eCPM'], city3['eCPM']))\n",
    "print(st.mannwhitneyu(city2['eCPM'], city3['eCPM']))"
   ]
  },
  {
   "cell_type": "markdown",
   "metadata": {},
   "source": [
    "### p-value < 0.01, значит между тремя городами есть статистически значимое различие по значению eCPM и  максимальные значения доходов за 100 просмотров принадлежат юзерам из города Pittsburgh"
   ]
  },
  {
   "cell_type": "markdown",
   "metadata": {},
   "source": [
    "### Для полноэкранной рекламы"
   ]
  },
  {
   "cell_type": "code",
   "execution_count": 57,
   "metadata": {},
   "outputs": [
    {
     "name": "stdout",
     "output_type": "stream",
     "text": [
      "                         eCPM\n",
      "city                         \n",
      "San Antonio        937.195984\n",
      "Milwaukee          921.145020\n",
      "La Crosse          650.000000\n",
      "Madisonville       641.958862\n",
      "East Peoria        582.154785\n",
      "...                       ...\n",
      "Federal Way          5.539932\n",
      "Fort Walton Beach    4.278135\n",
      "Lincoln City         4.249154\n",
      "Ocala                2.926826\n",
      "Chantilly            2.890648\n",
      "\n",
      "[869 rows x 1 columns]\n"
     ]
    }
   ],
   "source": [
    "city = data[data.ad_type == \"int\"].groupby(\"city\").aggregate({\"eCPM\":\"max\"})\n",
    "print(city.sort_values(by=\"eCPM\", ascending=False))"
   ]
  },
  {
   "cell_type": "markdown",
   "metadata": {},
   "source": [
    "### Максимальные значения доходов за 1000 просмотров для баннерной рекламы принадлежат таким городам, как: San Antonio, Milwaukee\n",
    "### Минимальные значения доходов за 1000 просмотров для баннерной рекламы у городов Federal Way, Ocala, Chantilly. \n",
    "### Мы также можем посмотреть есть ли статистически значимые различия между городами с максимальным значением eCMP. "
   ]
  },
  {
   "cell_type": "code",
   "execution_count": 58,
   "metadata": {},
   "outputs": [
    {
     "name": "stdout",
     "output_type": "stream",
     "text": [
      "ShapiroResult(statistic=0.6495746374130249, pvalue=1.0963570745990883e-19)\n",
      "ShapiroResult(statistic=0.8674317598342896, pvalue=0.0007041144999675453)\n"
     ]
    }
   ],
   "source": [
    "city1 = data[(data['city']== \"Pittsburgh\") & (data['ad_type'] == \"int\")]\n",
    "city2 = data[(data['city']== \"Duluth\") & (data['ad_type'] == \"int\")]\n",
    "print(st.shapiro(city1['eCPM']))\n",
    "print(st.shapiro(city2['eCPM']))"
   ]
  },
  {
   "cell_type": "markdown",
   "metadata": {},
   "source": [
    "### Данные распределены не нормально, используем критерий Манна-Уитни"
   ]
  },
  {
   "cell_type": "code",
   "execution_count": 59,
   "metadata": {},
   "outputs": [
    {
     "name": "stdout",
     "output_type": "stream",
     "text": [
      "MannwhitneyuResult(statistic=1270.5, pvalue=7.048308774092482e-09)\n"
     ]
    }
   ],
   "source": [
    "print(st.mannwhitneyu(city1['eCPM'], city2['eCPM']))"
   ]
  },
  {
   "cell_type": "markdown",
   "metadata": {},
   "source": [
    "### Данные города статистически отличаются друг от друга, максимальные значения доходов за 100 просмотров принадлежат юзерам из города San Antonio. "
   ]
  },
  {
   "cell_type": "markdown",
   "metadata": {},
   "source": [
    "### Для видео, которое юзер смотрит по желанию и за просмотр ачивки"
   ]
  },
  {
   "cell_type": "code",
   "execution_count": 60,
   "metadata": {},
   "outputs": [
    {
     "name": "stdout",
     "output_type": "stream",
     "text": [
      "                         eCPM\n",
      "city                         \n",
      "East Peoria        916.205811\n",
      "Lee's Summit       915.771301\n",
      "Indianapolis       740.319702\n",
      "Cincinnati         622.153137\n",
      "Rocky Mount        619.201782\n",
      "...                       ...\n",
      "Prescott Valley     10.761116\n",
      "Uniontown            9.083504\n",
      "Oak Creek            5.105076\n",
      "Utica                4.088939\n",
      "Fort Walton Beach    4.074518\n",
      "\n",
      "[454 rows x 1 columns]\n"
     ]
    }
   ],
   "source": [
    "city = data[data.ad_type == \"rv\"].groupby(\"city\").aggregate({\"eCPM\":\"max\"})\n",
    "print(city.sort_values(by=\"eCPM\", ascending=False))"
   ]
  },
  {
   "cell_type": "markdown",
   "metadata": {},
   "source": [
    "### Максимальные значения доходов за 1000 просмотров для баннерной рекламы принадлежат таким городам, как: East Peoria, Lee's Summit\n",
    "### Минимальные значения доходов за 1000 просмотров для баннерной рекламы у городов Utica, Fort Walton Beach\n",
    "### Мы также можем посмотреть есть ли статистически значимые различия между городами с максимальным значением eCMP. "
   ]
  },
  {
   "cell_type": "code",
   "execution_count": 64,
   "metadata": {},
   "outputs": [
    {
     "name": "stdout",
     "output_type": "stream",
     "text": [
      "ShapiroResult(statistic=0.7500000596046448, pvalue=-9.106917104872991e-07)\n",
      "ShapiroResult(statistic=0.39246171712875366, pvalue=1.5880045542426835e-11)\n"
     ]
    }
   ],
   "source": [
    "city1 = data[(data['city']== \"East Peoria\") & (data['ad_type'] == \"rv\")]\n",
    "city2 = data[(data['city']== \"Lee's Summit\") & (data['ad_type'] == \"rv\")]\n",
    "print(st.shapiro(city1['eCPM']))\n",
    "print(st.shapiro(city2['eCPM']))"
   ]
  },
  {
   "cell_type": "code",
   "execution_count": 65,
   "metadata": {},
   "outputs": [
    {
     "name": "stdout",
     "output_type": "stream",
     "text": [
      "MannwhitneyuResult(statistic=2.0, pvalue=0.0029537964656865144)\n"
     ]
    }
   ],
   "source": [
    "print(st.mannwhitneyu(city1['eCPM'], city2['eCPM']))"
   ]
  },
  {
   "cell_type": "markdown",
   "metadata": {},
   "source": [
    "### Данные города статистически отличаются друг от друга, максимальные значения доходов за 100 просмотров принадлежат юзерам из города East Peoria. \n",
    "### Для различных типов рекламы максимальные значения eCPM принадлежат к разным городам."
   ]
  },
  {
   "cell_type": "markdown",
   "metadata": {},
   "source": [
    "## Статистика по OS"
   ]
  },
  {
   "cell_type": "markdown",
   "metadata": {},
   "source": [
    "### Сравним eCPM для всех типов OS для разных типовы реклам, так как выборка большая, то можно использовать t-тест"
   ]
  },
  {
   "cell_type": "code",
   "execution_count": 66,
   "metadata": {},
   "outputs": [
    {
     "name": "stdout",
     "output_type": "stream",
     "text": [
      "102\n"
     ]
    }
   ],
   "source": [
    "def stat_os(os, ad_type):\n",
    "    count = 0\n",
    "    for i in range(len(os)):\n",
    "        for j in range(len(os)):\n",
    "                if i != j:\n",
    "                    os1 = data[(data['os_version']== os[i]) & (data['ad_type'] == ad_type)]\n",
    "                    os2 = data[(data['os_version']== os[j]) & (data['ad_type'] == ad_type)]\n",
    "                    pv = st.ttest_ind(os1['eCPM'], os2['eCPM'])[1]\n",
    "                    if pv  < 0.05:\n",
    "                        #print(os[i], os[j], pv)\n",
    "                        count += 1\n",
    "    if count == 0:\n",
    "        print(\"Нет отличий\")\n",
    "    else:\n",
    "        print(count)\n",
    "    \n",
    "ad_type = \"banner\"\n",
    "os = [\"10\", \"11\", \"12\", \"5.0.2\", \"6.0.1\", \"7.0\", \"7.1.1\", \"7.1.2\", \"8.0.0\", \"8.1.0\", \"9\"]\n",
    "stat_os(os, ad_type)"
   ]
  },
  {
   "cell_type": "code",
   "execution_count": 67,
   "metadata": {},
   "outputs": [
    {
     "name": "stdout",
     "output_type": "stream",
     "text": [
      "80\n"
     ]
    }
   ],
   "source": [
    "ad_type = \"int\"\n",
    "stat_os(os, ad_type)"
   ]
  },
  {
   "cell_type": "code",
   "execution_count": 68,
   "metadata": {},
   "outputs": [
    {
     "name": "stdout",
     "output_type": "stream",
     "text": [
      "22\n"
     ]
    }
   ],
   "source": [
    "ad_type = \"rv\"\n",
    "stat_os(os, ad_type)"
   ]
  },
  {
   "cell_type": "markdown",
   "metadata": {},
   "source": [
    "### По полученным результатам, можно сделать вывод, что больше всего различий по eCMP между группами с разными версиями OS для банерной рекламы, наименьшее количество для групп с рекламными видео, которые юзер смотрит по желанию и за просмотр получает монетки или другие ресурсы."
   ]
  },
  {
   "cell_type": "markdown",
   "metadata": {},
   "source": [
    "# Вывод"
   ]
  },
  {
   "cell_type": "markdown",
   "metadata": {},
   "source": [
    "### Основные описания исследования были представленны ранее. Подведем краткое резюме:\n",
    "### 1. Наибольшие значения и распределение средних eCPM для юзеров принимают видео, которое юзер смотрит по желанию и за просмотр получает монетки или другие ресурсы. Данный тип рекламы является наиболее просматриваемым отдельными уникальными юзерами. Наименее просматриваемый - баннерная реклама.\n",
    "### 2. По значению средних eCPM по городам были найденны статистически доставерные различия между типами рекламы. Максимальные значения для видео, которое юзер смотрит по желанию и минимальные для баннерной рекламы. По анализу значений eCPM было выявлено, что в зависимости от типа рекламы есть свой город с статистически значимыми максимальными значениями доходов за 100 просмотров.\n",
    "### 3. По значению средних eCPM по версии OS были выявлены статистически доставерное сниженное значение средних eCPM у баннерной рекламы по сравнению с другими типами рекламы. Также статстически значимых отличий между группами с разными версиями OS у баннерной рекламы также больше, чем у остальных типов групп.\n",
    "### 4. При сумарных значениях дохода у всех трех типов рекламы приблизительно одинаковое значение медиан, а также наибольшее количество равномерных выбросов в группе с полноэкранной рекламой. "
   ]
  },
  {
   "cell_type": "markdown",
   "metadata": {},
   "source": [
    "# Дополнительно"
   ]
  },
  {
   "cell_type": "markdown",
   "metadata": {},
   "source": [
    "### Дополнительно хочется посмотреть, какой тип рекламы все таки приносит большее значение суммарного дохода"
   ]
  },
  {
   "cell_type": "code",
   "execution_count": 71,
   "metadata": {},
   "outputs": [
    {
     "name": "stdout",
     "output_type": "stream",
     "text": [
      "607.184040795969 1361.9529674272044 421.6616521203888\n"
     ]
    }
   ],
   "source": [
    "banner_sum = data[(data['ad_type'] == \"banner\")]\n",
    "int_sum = data[(data['ad_type'] == \"int\")]\n",
    "rv_sum = data[(data['ad_type'] == \"rv\")]\n",
    "print(banner_sum['revenue'].sum(), int_sum['revenue'].sum(), rv_sum['revenue'].sum())"
   ]
  },
  {
   "cell_type": "markdown",
   "metadata": {},
   "source": [
    "### Несмотря на большое количество средних eCMP просмотр пользователями видео которое юзер смотрит по желанию принесло минимальный общий доход, тогда как максимальный общий доход принесла полноэкранная реклама."
   ]
  },
  {
   "cell_type": "markdown",
   "metadata": {},
   "source": [
    "### Какой процент доходов содержит информацию о городе юзера"
   ]
  },
  {
   "cell_type": "code",
   "execution_count": 94,
   "metadata": {},
   "outputs": [
    {
     "data": {
      "text/plain": [
       "2390.798660343562"
      ]
     },
     "execution_count": 94,
     "metadata": {},
     "output_type": "execute_result"
    }
   ],
   "source": [
    "data.revenue.sum()"
   ]
  },
  {
   "cell_type": "code",
   "execution_count": 92,
   "metadata": {},
   "outputs": [],
   "source": [
    "df = data.dropna(axis = 0)"
   ]
  },
  {
   "cell_type": "code",
   "execution_count": 95,
   "metadata": {},
   "outputs": [
    {
     "data": {
      "text/plain": [
       "61.947648740705944"
      ]
     },
     "execution_count": 95,
     "metadata": {},
     "output_type": "execute_result"
    }
   ],
   "source": [
    "(df.revenue.sum() / data.revenue.sum()) * 100"
   ]
  },
  {
   "cell_type": "markdown",
   "metadata": {},
   "source": [
    "### Процент доходов содержащий информацию о городе юзера равен 62%"
   ]
  }
 ],
 "metadata": {
  "kernelspec": {
   "display_name": "Python 3",
   "language": "python",
   "name": "python3"
  },
  "language_info": {
   "codemirror_mode": {
    "name": "ipython",
    "version": 3
   },
   "file_extension": ".py",
   "mimetype": "text/x-python",
   "name": "python",
   "nbconvert_exporter": "python",
   "pygments_lexer": "ipython3",
   "version": "3.8.5"
  }
 },
 "nbformat": 4,
 "nbformat_minor": 4
}
